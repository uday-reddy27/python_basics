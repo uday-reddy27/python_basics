{
  "nbformat": 4,
  "nbformat_minor": 0,
  "metadata": {
    "colab": {
      "provenance": []
    },
    "kernelspec": {
      "name": "python3",
      "display_name": "Python 3"
    },
    "language_info": {
      "name": "python"
    }
  },
  "cells": [
    {
      "cell_type": "code",
      "execution_count": 2,
      "metadata": {
        "colab": {
          "base_uri": "https://localhost:8080/"
        },
        "id": "svdgXZ0k0gaK",
        "outputId": "94013e56-4546-4a58-e941-9cb4546943bf"
      },
      "outputs": [
        {
          "output_type": "stream",
          "name": "stdout",
          "text": [
            "Extracted Email Addresses: ['admin@example.com', 'admin@example.org']\n"
          ]
        }
      ],
      "source": [
        "import re\n",
        "\n",
        "def extract_emails(text):\n",
        "    \"\"\"\n",
        "    Extracts all email addresses from the given text using a regular expression.\n",
        "\n",
        "    Args:\n",
        "        text (str): The input string containing email addresses.\n",
        "\n",
        "    Returns:\n",
        "        list: A list of extracted email addresses.\n",
        "    \"\"\"\n",
        "    # Define a regex pattern for matching email addresses.\n",
        "    email_pattern = r'[a-zA-Z0-9._%+-]+@[a-zA-Z0-9.-]+\\.[a-zA-Z]{2,}'\n",
        "\n",
        "    # Use re.findall() to extract all email addresses.\n",
        "    emails = re.findall(email_pattern, text)\n",
        "    return emails\n",
        "\n",
        "# Test the function with the given input.\n",
        "test_input = 'Contact us at admin@example.com and admin@example.org.'\n",
        "extracted_emails = extract_emails(test_input)\n",
        "\n",
        "print(\"Extracted Email Addresses:\", extracted_emails)\n"
      ]
    },
    {
      "cell_type": "code",
      "source": [],
      "metadata": {
        "id": "XyklBl4M0kN7"
      },
      "execution_count": null,
      "outputs": []
    }
  ]
}