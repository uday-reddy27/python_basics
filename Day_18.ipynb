{
  "nbformat": 4,
  "nbformat_minor": 0,
  "metadata": {
    "colab": {
      "provenance": []
    },
    "kernelspec": {
      "name": "python3",
      "display_name": "Python 3"
    },
    "language_info": {
      "name": "python"
    }
  },
  "cells": [
    {
      "cell_type": "code",
      "execution_count": 2,
      "metadata": {
        "colab": {
          "base_uri": "https://localhost:8080/"
        },
        "id": "JocJYvZr1Irc",
        "outputId": "52064fd7-ec71-4655-bd83-41b7f8f18832"
      },
      "outputs": [
        {
          "output_type": "stream",
          "name": "stdout",
          "text": [
            "Title of the webpage: Example Domain\n"
          ]
        }
      ],
      "source": [
        "import requests\n",
        "from bs4 import BeautifulSoup\n",
        "\n",
        "def fetch_webpage_title(url):\n",
        "    try:\n",
        "        # Send a GET request to the URL\n",
        "        response = requests.get(url)\n",
        "        response.raise_for_status()  # Raise an exception for HTTP errors\n",
        "\n",
        "        # Parse the HTML content using BeautifulSoup\n",
        "        soup = BeautifulSoup(response.text, 'html.parser')\n",
        "\n",
        "        # Extract the title tag\n",
        "        title_tag = soup.title\n",
        "        if title_tag is not None:\n",
        "            return title_tag.string.strip()\n",
        "        else:\n",
        "            return \"No title found.\"\n",
        "    except requests.RequestException as e:\n",
        "        return f\"An error occurred: {e}\"\n",
        "\n",
        "# Test the function with the provided URL\n",
        "url = 'https://example.com'\n",
        "title = fetch_webpage_title(url)\n",
        "print(\"Title of the webpage:\", title)\n"
      ]
    },
    {
      "cell_type": "code",
      "source": [],
      "metadata": {
        "id": "1wnXAIOF1VLz"
      },
      "execution_count": null,
      "outputs": []
    }
  ]
}