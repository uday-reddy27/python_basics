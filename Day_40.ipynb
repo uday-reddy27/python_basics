{
  "nbformat": 4,
  "nbformat_minor": 0,
  "metadata": {
    "colab": {
      "provenance": []
    },
    "kernelspec": {
      "name": "python3",
      "display_name": "Python 3"
    },
    "language_info": {
      "name": "python"
    }
  },
  "cells": [
    {
      "cell_type": "code",
      "execution_count": 1,
      "metadata": {
        "colab": {
          "base_uri": "https://localhost:8080/"
        },
        "id": "s7Up3VtLzvkh",
        "outputId": "0c19228b-e59c-4304-e930-3da95743b278"
      },
      "outputs": [
        {
          "output_type": "stream",
          "name": "stdout",
          "text": [
            "Text: 'Buy now and win a prize' -> Prediction: spam\n",
            "Text: 'Normal email content' -> Prediction: ham\n",
            "Text: 'Congratulations, you won!' -> Prediction: spam\n"
          ]
        }
      ],
      "source": [
        "from sklearn.ensemble import RandomForestClassifier\n",
        "from sklearn.feature_extraction.text import TfidfVectorizer\n",
        "from sklearn.pipeline import Pipeline\n",
        "\n",
        "# Sample training data (for example purposes, \"spam\" vs. \"ham\")\n",
        "train_texts = [\n",
        "    \"Buy now and win a prize\",         # spam\n",
        "    \"Congratulations, you won!\",        # spam\n",
        "    \"Limited offer just for you\",       # spam\n",
        "    \"Normal email content\",             # ham\n",
        "    \"Meeting tomorrow at 10am\",         # ham\n",
        "    \"Project update attached\",          # ham\n",
        "]\n",
        "train_labels = [\"spam\", \"spam\", \"spam\", \"ham\", \"ham\", \"ham\"]\n",
        "\n",
        "# Create a pipeline that combines TF-IDF vectorization with a Random Forest classifier\n",
        "pipeline = Pipeline([\n",
        "    (\"tfidf\", TfidfVectorizer()),\n",
        "    (\"clf\", RandomForestClassifier(n_estimators=100, random_state=42))\n",
        "])\n",
        "\n",
        "# Train the classifier on the training data\n",
        "pipeline.fit(train_texts, train_labels)\n",
        "\n",
        "# Example input to classify\n",
        "test_texts = [\n",
        "    \"Buy now and win a prize\",\n",
        "    \"Normal email content\",\n",
        "    \"Congratulations, you won!\"\n",
        "]\n",
        "\n",
        "# Make predictions on the test data\n",
        "predictions = pipeline.predict(test_texts)\n",
        "\n",
        "# Output the predictions\n",
        "for text, label in zip(test_texts, predictions):\n",
        "    print(f\"Text: '{text}' -> Prediction: {label}\")\n"
      ]
    },
    {
      "cell_type": "code",
      "source": [],
      "metadata": {
        "id": "w3qzrexczw1r"
      },
      "execution_count": null,
      "outputs": []
    }
  ]
}