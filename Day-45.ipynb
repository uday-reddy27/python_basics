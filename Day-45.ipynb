{
  "nbformat": 4,
  "nbformat_minor": 0,
  "metadata": {
    "colab": {
      "provenance": []
    },
    "kernelspec": {
      "name": "python3",
      "display_name": "Python 3"
    },
    "language_info": {
      "name": "python"
    }
  },
  "cells": [
    {
      "cell_type": "code",
      "execution_count": 1,
      "metadata": {
        "colab": {
          "base_uri": "https://localhost:8080/"
        },
        "id": "p9QxyzRFQ-R1",
        "outputId": "5cbc24dc-e2ff-46a7-fe75-2a90314b81f2"
      },
      "outputs": [
        {
          "output_type": "stream",
          "name": "stdout",
          "text": [
            "iam going for \n",
            " learning nlp\n"
          ]
        }
      ],
      "source": [
        "print(\"iam going for \\n learning nlp\")"
      ]
    },
    {
      "cell_type": "code",
      "source": [
        "print(\"iam going \\ncollege for \\nlearning nlp\")"
      ],
      "metadata": {
        "colab": {
          "base_uri": "https://localhost:8080/"
        },
        "id": "ONeG7faRRKh-",
        "outputId": "41852492-10b7-43c8-c654-d7933718ae7d"
      },
      "execution_count": 3,
      "outputs": [
        {
          "output_type": "stream",
          "name": "stdout",
          "text": [
            "iam going \n",
            "college for \n",
            "learning nlp\n"
          ]
        }
      ]
    },
    {
      "cell_type": "code",
      "source": [
        "print(\"iam going \\ncollege for\\tlearning nlp\")"
      ],
      "metadata": {
        "colab": {
          "base_uri": "https://localhost:8080/"
        },
        "id": "WCUyw9QfRVN9",
        "outputId": "bc4474cd-d1d0-4575-f417-31eab3c0cec8"
      },
      "execution_count": 4,
      "outputs": [
        {
          "output_type": "stream",
          "name": "stdout",
          "text": [
            "iam going \n",
            "college for\tlearning nlp\n"
          ]
        }
      ]
    },
    {
      "cell_type": "code",
      "source": [],
      "metadata": {
        "id": "jvHFdKOVR4S6"
      },
      "execution_count": null,
      "outputs": []
    },
    {
      "cell_type": "markdown",
      "source": [
        "# Carriage return (\\r)"
      ],
      "metadata": {
        "id": "UyoVRcpCSLN0"
      }
    },
    {
      "cell_type": "code",
      "source": [
        "print(\"iam going college for \\rlearning nlp\")"
      ],
      "metadata": {
        "colab": {
          "base_uri": "https://localhost:8080/"
        },
        "id": "RZsWkA9qSVfH",
        "outputId": "b0527f7f-7401-456c-e8ad-f82b6ca9720e"
      },
      "execution_count": 5,
      "outputs": [
        {
          "output_type": "stream",
          "name": "stdout",
          "text": [
            "iam going college for \rlearning nlp\n"
          ]
        }
      ]
    },
    {
      "cell_type": "code",
      "source": [
        "import re"
      ],
      "metadata": {
        "id": "0ZztNTbYSjYG"
      },
      "execution_count": 6,
      "outputs": []
    },
    {
      "cell_type": "code",
      "source": [
        "from typing import Pattern\n",
        "string = \"18 james bond wants to learn the python\"\n",
        "Pattern=r'\\d+'\n",
        "matching = re.match(Pattern,string)\n",
        "matching.group()"
      ],
      "metadata": {
        "colab": {
          "base_uri": "https://localhost:8080/",
          "height": 36
        },
        "id": "sj3l3fxJT0rP",
        "outputId": "603c605b-1ae8-447a-b113-4feee62930b1"
      },
      "execution_count": 10,
      "outputs": [
        {
          "output_type": "execute_result",
          "data": {
            "text/plain": [
              "'18'"
            ],
            "application/vnd.google.colaboratory.intrinsic+json": {
              "type": "string"
            }
          },
          "metadata": {},
          "execution_count": 10
        }
      ]
    },
    {
      "cell_type": "code",
      "source": [
        "import re\n",
        "pattern=r'\\d+'\n",
        "string=\"james bond 007 wants 008 to learn the python\"\n",
        "matching=re.search(pattern,string)\n",
        "matching.group()"
      ],
      "metadata": {
        "colab": {
          "base_uri": "https://localhost:8080/",
          "height": 36
        },
        "id": "ark5ekS0UPGb",
        "outputId": "0e58869c-74a5-4c87-dda0-d755b4ae2566"
      },
      "execution_count": 11,
      "outputs": [
        {
          "output_type": "execute_result",
          "data": {
            "text/plain": [
              "'007'"
            ],
            "application/vnd.google.colaboratory.intrinsic+json": {
              "type": "string"
            }
          },
          "metadata": {},
          "execution_count": 11
        }
      ]
    },
    {
      "cell_type": "code",
      "source": [
        "import re\n",
        "pattern=r'\\d+'\n",
        "string=\"james bond 007 wants 008 to learn 67 the python\"\n",
        "matching=re.findall(pattern,string)\n",
        "matching"
      ],
      "metadata": {
        "colab": {
          "base_uri": "https://localhost:8080/"
        },
        "id": "KiIct8NYVJzL",
        "outputId": "8a25b3c8-503d-4a82-8874-d2f7a590d1fb"
      },
      "execution_count": 13,
      "outputs": [
        {
          "output_type": "execute_result",
          "data": {
            "text/plain": [
              "['007', '008', '67']"
            ]
          },
          "metadata": {},
          "execution_count": 13
        }
      ]
    },
    {
      "cell_type": "code",
      "source": [
        "import re\n",
        "pattern=r'\\d'\n",
        "string=\"james bond 007 wants 008 to learn  009 the python\"\n",
        "matching=re.sub(pattern,'#',string)\n",
        "matching"
      ],
      "metadata": {
        "colab": {
          "base_uri": "https://localhost:8080/",
          "height": 36
        },
        "id": "5-I89TnlWHiM",
        "outputId": "4e3340c2-ce49-4f09-f171-ea523f409871"
      },
      "execution_count": 18,
      "outputs": [
        {
          "output_type": "execute_result",
          "data": {
            "text/plain": [
              "'james bond ### wants ### to learn  ### the python'"
            ],
            "application/vnd.google.colaboratory.intrinsic+json": {
              "type": "string"
            }
          },
          "metadata": {},
          "execution_count": 18
        }
      ]
    },
    {
      "cell_type": "code",
      "source": [
        "import re\n",
        "\n",
        "def clean_text(text):\n",
        "    # Extract email addresses\n",
        "    emails = re.findall(r'[a-zA-Z0-9._%+-]+@[a-zA-Z0-9.-]+\\.[a-zA-Z]{2,}', text)\n",
        "\n",
        "    # Extract hashtags\n",
        "    hashtags = re.findall(r'#\\w+', text)\n",
        "\n",
        "    # Remove numbers\n",
        "    text = re.sub(r'\\d+', '', text)\n",
        "\n",
        "    # Remove HTML tags\n",
        "    text = re.sub(r'<.*?>', '', text)\n",
        "\n",
        "    # Normalize whitespace\n",
        "    text = re.sub(r'\\s+', ' ', text).strip()\n",
        "\n",
        "    return text, emails, hashtags\n",
        "\n",
        "# Example usage\n",
        "sample_text = \"\"\"<p>Contact us at support@example.com or marketing@example.org.\n",
        "Stay updated with #AI and #NLP!\n",
        "Our revenue grew by 200% in 2024!</p>\"\"\"\n",
        "\n",
        "cleaned_text, extracted_emails, extracted_hashtags = clean_text(sample_text)\n",
        "\n",
        "print(\"Cleaned Text:\", cleaned_text)\n",
        "print(\"Extracted Emails:\", extracted_emails)\n",
        "print(\"Extracted Hashtags:\", extracted_hashtags)\n"
      ],
      "metadata": {
        "colab": {
          "base_uri": "https://localhost:8080/"
        },
        "id": "fsA4QxX0W5-x",
        "outputId": "c32aa2e3-2c8a-484d-966c-ce8b8d9a21f7"
      },
      "execution_count": 19,
      "outputs": [
        {
          "output_type": "stream",
          "name": "stdout",
          "text": [
            "Cleaned Text: Contact us at support@example.com or marketing@example.org. Stay updated with #AI and #NLP! Our revenue grew by % in !\n",
            "Extracted Emails: ['support@example.com', 'marketing@example.org']\n",
            "Extracted Hashtags: ['#AI', '#NLP']\n"
          ]
        }
      ]
    },
    {
      "cell_type": "code",
      "source": [],
      "metadata": {
        "id": "TJ1QlRgSYXMD"
      },
      "execution_count": null,
      "outputs": []
    }
  ]
}